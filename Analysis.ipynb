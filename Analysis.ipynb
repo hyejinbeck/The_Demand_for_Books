{
 "cells": [
  {
   "cell_type": "markdown",
   "id": "5b787e8b-e5ec-4c42-88c6-c54f20db0a63",
   "metadata": {},
   "source": [
    "# 0. 기본 셋팅"
   ]
  },
  {
   "cell_type": "code",
   "execution_count": 3,
   "id": "06b915fc-24ed-4064-a6d9-b928cac58521",
   "metadata": {},
   "outputs": [
    {
     "data": {
      "text/html": [
       "<div>\n",
       "<style scoped>\n",
       "    .dataframe tbody tr th:only-of-type {\n",
       "        vertical-align: middle;\n",
       "    }\n",
       "\n",
       "    .dataframe tbody tr th {\n",
       "        vertical-align: top;\n",
       "    }\n",
       "\n",
       "    .dataframe thead th {\n",
       "        text-align: right;\n",
       "    }\n",
       "</style>\n",
       "<table border=\"1\" class=\"dataframe\">\n",
       "  <thead>\n",
       "    <tr style=\"text-align: right;\">\n",
       "      <th></th>\n",
       "      <th>번호</th>\n",
       "      <th>도서명</th>\n",
       "      <th>저자</th>\n",
       "      <th>출판사</th>\n",
       "      <th>발행년도</th>\n",
       "      <th>ISBN</th>\n",
       "      <th>세트 ISBN</th>\n",
       "      <th>부가기호</th>\n",
       "      <th>권</th>\n",
       "      <th>주제분류번호</th>\n",
       "      <th>도서권수</th>\n",
       "      <th>대출건수</th>\n",
       "      <th>등록일자</th>\n",
       "      <th>Unnamed: 13</th>\n",
       "    </tr>\n",
       "  </thead>\n",
       "  <tbody>\n",
       "    <tr>\n",
       "      <th>0</th>\n",
       "      <td>1</td>\n",
       "      <td>이효석문학상 수상작품집:애도의 방식</td>\n",
       "      <td>안보윤 [외]지음</td>\n",
       "      <td>북다</td>\n",
       "      <td>2023</td>\n",
       "      <td>9791170610311</td>\n",
       "      <td>NaN</td>\n",
       "      <td>0</td>\n",
       "      <td>24</td>\n",
       "      <td>813.608</td>\n",
       "      <td>1</td>\n",
       "      <td>0</td>\n",
       "      <td>2023-09-25</td>\n",
       "      <td>NaN</td>\n",
       "    </tr>\n",
       "    <tr>\n",
       "      <th>1</th>\n",
       "      <td>2</td>\n",
       "      <td>인공지능을 위한 머신러닝과 딥러닝 with 파이썬</td>\n",
       "      <td>김현정,유상현 (지은이)</td>\n",
       "      <td>길벗캠퍼스</td>\n",
       "      <td>2023</td>\n",
       "      <td>9791140706112</td>\n",
       "      <td>NaN</td>\n",
       "      <td>NaN</td>\n",
       "      <td>NaN</td>\n",
       "      <td>NaN</td>\n",
       "      <td>1</td>\n",
       "      <td>0</td>\n",
       "      <td>2023-09-25</td>\n",
       "      <td>NaN</td>\n",
       "    </tr>\n",
       "  </tbody>\n",
       "</table>\n",
       "</div>"
      ],
      "text/plain": [
       "   번호                          도서명             저자    출판사  발행년도           ISBN  \\\n",
       "0   1         이효석문학상 수상작품집:애도의 방식       안보윤 [외]지음     북다  2023  9791170610311   \n",
       "1   2  인공지능을 위한 머신러닝과 딥러닝 with 파이썬  김현정,유상현 (지은이)  길벗캠퍼스  2023  9791140706112   \n",
       "\n",
       "   세트 ISBN 부가기호    권   주제분류번호  도서권수  대출건수        등록일자  Unnamed: 13  \n",
       "0      NaN    0   24  813.608     1     0  2023-09-25          NaN  \n",
       "1      NaN  NaN  NaN      NaN     1     0  2023-09-25          NaN  "
      ]
     },
     "execution_count": 3,
     "metadata": {},
     "output_type": "execute_result"
    }
   ],
   "source": [
    "####################### 모듈 불러오기 \n",
    "import numpy as np\n",
    "import pandas as pd \n",
    "import seaborn as sns\n",
    "import matplotlib as mpl  # 기본 설정 만지는 용도\n",
    "import matplotlib.pyplot as plt  # 그래프 그리는 용도\n",
    "import matplotlib.font_manager as fm  # 폰트 관련 용도\n",
    "\n",
    "####################### 불필요한 경고 메시지 무시\n",
    "import warnings\n",
    "warnings.filterwarnings('ignore')\n",
    "\n",
    "####################### 여기서 Matplotlib 코드를 사용하여 그래프 생성 및 표시\n",
    "%matplotlib inline  \n",
    "\n",
    "####################### 한글폰트\n",
    "#font_family = plt.rcParams['font.family']#메모리 상에 현재 설정되어 있는 폰트 패밀리 이름\n",
    "#plt.rc('font', family='NanumSquare') #나눔 글꼴로 설정(이미 시스템에 설치되어있는경우 알아서 찾아다줌)\n",
    "plt.rc('font', family='AppleGothic') #맥 \n",
    "plt.rcParams['axes.unicode_minus'] = False #부호\n",
    "\n",
    "####################### 데이터 불러오기\n",
    "df = pd.read_csv('./data/서울특별시교육청남산도서관 장서 대출목록 (2023년 09월).csv',encoding='euc_kr')\n",
    "df.head(2)\n",
    "# ISBN : 도서를 식별하기 위한 국제 표준 번호 (일반적으로 각 도서에 고유한 번호) \n",
    "# 세트 ISBN : ISBN과 유사하지만, 보통 여러 도서를 묶어서 판매할 때 사용"
   ]
  },
  {
   "cell_type": "code",
   "execution_count": 4,
   "id": "2c7b073e-bd52-4a70-b684-2a980e155699",
   "metadata": {},
   "outputs": [
    {
     "name": "stdout",
     "output_type": "stream",
     "text": [
      "<class 'pandas.core.frame.DataFrame'>\n",
      "RangeIndex: 433903 entries, 0 to 433902\n",
      "Data columns (total 14 columns):\n",
      " #   Column       Non-Null Count   Dtype  \n",
      "---  ------       --------------   -----  \n",
      " 0   번호           433903 non-null  int64  \n",
      " 1   도서명          433503 non-null  object \n",
      " 2   저자           433696 non-null  object \n",
      " 3   출판사          428405 non-null  object \n",
      " 4   발행년도         433860 non-null  object \n",
      " 5   ISBN         433903 non-null  object \n",
      " 6   세트 ISBN      26487 non-null   float64\n",
      " 7   부가기호         335262 non-null  object \n",
      " 8   권            69777 non-null   object \n",
      " 9   주제분류번호       416756 non-null  object \n",
      " 10  도서권수         433903 non-null  int64  \n",
      " 11  대출건수         433903 non-null  int64  \n",
      " 12  등록일자         433903 non-null  object \n",
      " 13  Unnamed: 13  0 non-null       float64\n",
      "dtypes: float64(2), int64(3), object(9)\n",
      "memory usage: 46.3+ MB\n"
     ]
    }
   ],
   "source": [
    "df.info()\n",
    "\n",
    "# ISBN : 도서를 식별하기 위한 국제 표준 번호 (일반적으로 각 도서에 고유한 번호) \n",
    "# 세트 ISBN : ISBN과 유사하지만, 보통 여러 도서를 묶어서 판매할 때 사용"
   ]
  },
  {
   "cell_type": "markdown",
   "id": "69f17282-538f-44fc-920a-c3b8427bdfcf",
   "metadata": {},
   "source": [
    "# 1. 공공 API 불러오기 자동화\n",
    "\n",
    "목표 : 20대가 좋아하는 도서 200개 목록 api 통해서 자동화 불러오기"
   ]
  },
  {
   "cell_type": "code",
   "execution_count": 22,
   "id": "a7092b21-9b39-4d8d-9124-736ad754e826",
   "metadata": {},
   "outputs": [],
   "source": [
    "####################### API 자동화 \n",
    "\n",
    "# 지난 한 달간 \"20대에서 인기 많은 대출 도서\" API 신청 \n",
    "# 도서관 정보나루 \n",
    "\n",
    "#https://www.data4library.kr/apiUtilization# 참조 \n",
    "# format : JSON \n",
    "# startDt : 검색 시작 일자, 2023년 8월 1일로 설정 \n",
    "# ednDt : 검색 종료 일자, 2023년 8월 31일로 설정 \n",
    "# age : 연령대 , 20대 로 설정 \n",
    "# authKey : 인증키 발급 후 설정 \n",
    "\n",
    "####################### API 신청후 '승인완료'되어야 사용 가능 \n",
    "\n",
    "# 현재 승인신청중으로, 담당자 확인 있어야 사용가능 --> 승인신청 완료 \n",
    "url = \"http://data4library.kr/api/loanItemSrch?format=json&startDt=2023-08-01&endDt=2023-08-31&gender=0&from_age=6&to_age=20&region=11&addCode=0&kdc=8&authKey=f8c4d1efe4b15a61f4eef15cfd80369eff55e12f10763ad35ccc666504d516da\"\n",
    "\n",
    "####################### API 자동화 호출 \n",
    "#!pip install requests\n",
    "import requests\n",
    "\n",
    "####################### URL을 requests.get()함수에 전달 \n",
    "# 위의 url은 HTTP GET 방식으로 파라미터 값 전달하기 때문입니다. \n",
    "\n",
    "r = requests.get(url)\n",
    "data = r.json()"
   ]
  },
  {
   "cell_type": "code",
   "execution_count": 23,
   "id": "d92bc903-2fc4-4a56-bc97-f4885ba56d9e",
   "metadata": {},
   "outputs": [],
   "source": [
    "# print(data)    # 너무 많이 출력되기\b때문에 일부만 캡쳐 "
   ]
  },
  {
   "cell_type": "markdown",
   "id": "27cfe7c5-93b5-43a7-bc2a-cf790d341be7",
   "metadata": {},
   "source": [
    "![](https://velog.velcdn.com/images/beckhye/post/f2024351-c656-48eb-8f04-57a75ee246f1/image.png)"
   ]
  },
  {
   "cell_type": "code",
   "execution_count": 24,
   "id": "75ec8a40-1757-40c1-83a4-2d1b268c2058",
   "metadata": {},
   "outputs": [],
   "source": [
    "# data    # 너무 많이 출력되기\b때문에 일부만 캡쳐 "
   ]
  },
  {
   "cell_type": "markdown",
   "id": "43354e9f-6e71-4da4-9aa9-0091ccaa2c54",
   "metadata": {},
   "source": [
    "![](https://velog.velcdn.com/images/beckhye/post/9834f23a-0085-41f7-bbcd-a09a56c651f0/image.png) <br><br>\n",
    ".... <br><br>\n",
    "![](https://velog.velcdn.com/images/beckhye/post/910aa933-ffb8-4b24-905e-ea8691dd13e2/image.png)"
   ]
  },
  {
   "cell_type": "code",
   "execution_count": 27,
   "id": "a3dec648-fdc3-41af-9b0c-fa568b14fb78",
   "metadata": {},
   "outputs": [
    {
     "ename": "AttributeError",
     "evalue": "'dict' object has no attribute 'shape'",
     "output_type": "error",
     "traceback": [
      "\u001b[0;31m---------------------------------------------------------------------------\u001b[0m",
      "\u001b[0;31mAttributeError\u001b[0m                            Traceback (most recent call last)",
      "Cell \u001b[0;32mIn[27], line 1\u001b[0m\n\u001b[0;32m----> 1\u001b[0m \u001b[43mdata\u001b[49m\u001b[38;5;241;43m.\u001b[39;49m\u001b[43mshape\u001b[49m()         \u001b[38;5;66;03m# json형태이기때문에 error \u001b[39;00m\n",
      "\u001b[0;31mAttributeError\u001b[0m: 'dict' object has no attribute 'shape'"
     ]
    }
   ],
   "source": [
    "data.shape()         # json형태이기때문에 error "
   ]
  },
  {
   "cell_type": "code",
   "execution_count": 34,
   "id": "33c6c849-c7d1-403c-82f3-b9094080e290",
   "metadata": {},
   "outputs": [],
   "source": [
    "# 좀 더 편하게 보기 위하여 docs키에 매핑된 딕셔너리 추출한 후 리스트에 추가하는 반복문\n",
    "books = []\n",
    "for d in data['response']['docs']: \n",
    "    books.append(d['doc'])\n",
    "\n",
    "\n",
    "# 위의 코드와 동일한 방식임\n",
    "# 리스트 내포 List Comprehension 방식 코드 \n",
    "books = [d['doc'] for d in data ['response']['docs']]"
   ]
  },
  {
   "cell_type": "code",
   "execution_count": 30,
   "id": "59e63596-fd3e-49f1-8027-5ed3b97928b1",
   "metadata": {},
   "outputs": [],
   "source": [
    "# book    # 너무 많이 출력되기\b때문에 일부만 캡쳐 "
   ]
  },
  {
   "cell_type": "markdown",
   "id": "7f75ecea-e634-4a60-8430-d99846443c82",
   "metadata": {},
   "source": [
    "![](https://velog.velcdn.com/images/beckhye/post/f9695660-d171-4832-b710-94d44635ee22/image.png)<br><br>\n",
    "...<br><br>\n",
    "![](https://velog.velcdn.com/images/beckhye/post/076c3d01-e381-4053-8a98-00293065ceb5/image.png)"
   ]
  },
  {
   "cell_type": "code",
   "execution_count": 36,
   "id": "e5914738-6cfe-4b05-9225-6f684d5629e3",
   "metadata": {},
   "outputs": [
    {
     "data": {
      "text/html": [
       "<div>\n",
       "<style scoped>\n",
       "    .dataframe tbody tr th:only-of-type {\n",
       "        vertical-align: middle;\n",
       "    }\n",
       "\n",
       "    .dataframe tbody tr th {\n",
       "        vertical-align: top;\n",
       "    }\n",
       "\n",
       "    .dataframe thead th {\n",
       "        text-align: right;\n",
       "    }\n",
       "</style>\n",
       "<table border=\"1\" class=\"dataframe\">\n",
       "  <thead>\n",
       "    <tr style=\"text-align: right;\">\n",
       "      <th></th>\n",
       "      <th>no</th>\n",
       "      <th>ranking</th>\n",
       "      <th>bookname</th>\n",
       "      <th>authors</th>\n",
       "      <th>publisher</th>\n",
       "      <th>publication_year</th>\n",
       "      <th>isbn13</th>\n",
       "      <th>addition_symbol</th>\n",
       "      <th>vol</th>\n",
       "      <th>class_no</th>\n",
       "      <th>class_nm</th>\n",
       "      <th>loan_count</th>\n",
       "      <th>bookImageURL</th>\n",
       "      <th>bookDtlUrl</th>\n",
       "    </tr>\n",
       "  </thead>\n",
       "  <tbody>\n",
       "    <tr>\n",
       "      <th>0</th>\n",
       "      <td>1</td>\n",
       "      <td>1</td>\n",
       "      <td>아몬드손원평 장편소설</td>\n",
       "      <td>손원평</td>\n",
       "      <td>창비</td>\n",
       "      <td>2017</td>\n",
       "      <td>9788936434267</td>\n",
       "      <td>03810</td>\n",
       "      <td></td>\n",
       "      <td>813.7</td>\n",
       "      <td>문학 &gt; 한국문학 &gt; 소설</td>\n",
       "      <td>33</td>\n",
       "      <td>http://image.aladin.co.kr/product/16839/4/cove...</td>\n",
       "      <td>https://data4library.kr/bookV?seq=3423096</td>\n",
       "    </tr>\n",
       "    <tr>\n",
       "      <th>1</th>\n",
       "      <td>2</td>\n",
       "      <td>2</td>\n",
       "      <td>체리새우 :황영미 장편소설</td>\n",
       "      <td>지은이: 황영미</td>\n",
       "      <td>문학동네</td>\n",
       "      <td>2019</td>\n",
       "      <td>9788954654753</td>\n",
       "      <td>03810</td>\n",
       "      <td></td>\n",
       "      <td>813.7</td>\n",
       "      <td>문학 &gt; 한국문학 &gt; 소설</td>\n",
       "      <td>32</td>\n",
       "      <td>https://image.aladin.co.kr/product/17970/0/cov...</td>\n",
       "      <td>https://data4library.kr/bookV?seq=5359157</td>\n",
       "    </tr>\n",
       "    <tr>\n",
       "      <th>2</th>\n",
       "      <td>3</td>\n",
       "      <td>3</td>\n",
       "      <td>불편한 편의점 :김호연 장편소설</td>\n",
       "      <td>지은이: 김호연</td>\n",
       "      <td>나무옆의자</td>\n",
       "      <td>2021</td>\n",
       "      <td>9791161571188</td>\n",
       "      <td>03810</td>\n",
       "      <td></td>\n",
       "      <td>813.7</td>\n",
       "      <td>문학 &gt; 한국문학 &gt; 소설</td>\n",
       "      <td>29</td>\n",
       "      <td>https://image.aladin.co.kr/product/26942/84/co...</td>\n",
       "      <td>https://data4library.kr/bookV?seq=5962217</td>\n",
       "    </tr>\n",
       "    <tr>\n",
       "      <th>3</th>\n",
       "      <td>4</td>\n",
       "      <td>4</td>\n",
       "      <td>있으려나 서점</td>\n",
       "      <td>요시타케 신스케 지음 ;고향옥 옮김</td>\n",
       "      <td>김영사</td>\n",
       "      <td>2018</td>\n",
       "      <td>9788934981237</td>\n",
       "      <td>03830</td>\n",
       "      <td></td>\n",
       "      <td>838</td>\n",
       "      <td>문학 &gt; 일본문학 &gt; 르포르타주 및 기타</td>\n",
       "      <td>25</td>\n",
       "      <td>https://image.aladin.co.kr/product/15618/36/co...</td>\n",
       "      <td>https://data4library.kr/bookV?seq=3824131</td>\n",
       "    </tr>\n",
       "    <tr>\n",
       "      <th>4</th>\n",
       "      <td>5</td>\n",
       "      <td>4</td>\n",
       "      <td>나미야 잡화점의 기적 :히가시노 게이고 장편소설</td>\n",
       "      <td>지은이: 히가시노 게이고 ;옮긴이: 양윤옥</td>\n",
       "      <td>현대문학</td>\n",
       "      <td>2012</td>\n",
       "      <td>9788972756194</td>\n",
       "      <td>03830</td>\n",
       "      <td></td>\n",
       "      <td>833.6</td>\n",
       "      <td>문학 &gt; 일본문학 &gt; 소설</td>\n",
       "      <td>25</td>\n",
       "      <td>http://image.aladin.co.kr/product/15848/6/cove...</td>\n",
       "      <td>https://data4library.kr/bookV?seq=1902173</td>\n",
       "    </tr>\n",
       "  </tbody>\n",
       "</table>\n",
       "</div>"
      ],
      "text/plain": [
       "   no ranking                     bookname                  authors publisher  \\\n",
       "0   1       1                  아몬드손원평 장편소설                      손원평        창비   \n",
       "1   2       2              체리새우 :황영미 장편소설                  지은이: 황영미      문학동네   \n",
       "2   3       3           불편한 편의점 :김호연 장편소설                  지은이: 김호연     나무옆의자   \n",
       "3   4       4                     있으려나 서점       요시타케 신스케 지음 ;고향옥 옮김       김영사   \n",
       "4   5       4  나미야 잡화점의 기적 :히가시노 게이고 장편소설   지은이: 히가시노 게이고 ;옮긴이: 양윤옥      현대문학   \n",
       "\n",
       "  publication_year         isbn13 addition_symbol vol class_no  \\\n",
       "0             2017  9788936434267           03810        813.7   \n",
       "1             2019  9788954654753           03810        813.7   \n",
       "2             2021  9791161571188           03810        813.7   \n",
       "3             2018  9788934981237           03830          838   \n",
       "4             2012  9788972756194           03830        833.6   \n",
       "\n",
       "                 class_nm loan_count  \\\n",
       "0          문학 > 한국문학 > 소설         33   \n",
       "1          문학 > 한국문학 > 소설         32   \n",
       "2          문학 > 한국문학 > 소설         29   \n",
       "3  문학 > 일본문학 > 르포르타주 및 기타         25   \n",
       "4          문학 > 일본문학 > 소설         25   \n",
       "\n",
       "                                        bookImageURL  \\\n",
       "0  http://image.aladin.co.kr/product/16839/4/cove...   \n",
       "1  https://image.aladin.co.kr/product/17970/0/cov...   \n",
       "2  https://image.aladin.co.kr/product/26942/84/co...   \n",
       "3  https://image.aladin.co.kr/product/15618/36/co...   \n",
       "4  http://image.aladin.co.kr/product/15848/6/cove...   \n",
       "\n",
       "                                  bookDtlUrl  \n",
       "0  https://data4library.kr/bookV?seq=3423096  \n",
       "1  https://data4library.kr/bookV?seq=5359157  \n",
       "2  https://data4library.kr/bookV?seq=5962217  \n",
       "3  https://data4library.kr/bookV?seq=3824131  \n",
       "4  https://data4library.kr/bookV?seq=1902173  "
      ]
     },
     "execution_count": 36,
     "metadata": {},
     "output_type": "execute_result"
    }
   ],
   "source": [
    "# 데이터프레임화 \n",
    "books_df = pd.DataFrame(books)\n",
    "books_df.head()"
   ]
  },
  {
   "cell_type": "code",
   "execution_count": 37,
   "id": "aca23c86-ff80-4cab-a689-f315cd05d1c2",
   "metadata": {},
   "outputs": [
    {
     "name": "stdout",
     "output_type": "stream",
     "text": [
      "<class 'pandas.core.frame.DataFrame'>\n",
      "RangeIndex: 200 entries, 0 to 199\n",
      "Data columns (total 14 columns):\n",
      " #   Column            Non-Null Count  Dtype \n",
      "---  ------            --------------  ----- \n",
      " 0   no                200 non-null    int64 \n",
      " 1   ranking           200 non-null    object\n",
      " 2   bookname          200 non-null    object\n",
      " 3   authors           200 non-null    object\n",
      " 4   publisher         200 non-null    object\n",
      " 5   publication_year  200 non-null    object\n",
      " 6   isbn13            200 non-null    object\n",
      " 7   addition_symbol   200 non-null    object\n",
      " 8   vol               200 non-null    object\n",
      " 9   class_no          200 non-null    object\n",
      " 10  class_nm          200 non-null    object\n",
      " 11  loan_count        200 non-null    object\n",
      " 12  bookImageURL      200 non-null    object\n",
      " 13  bookDtlUrl        200 non-null    object\n",
      "dtypes: int64(1), object(13)\n",
      "memory usage: 22.0+ KB\n"
     ]
    }
   ],
   "source": [
    "books_df.info()"
   ]
  },
  {
   "cell_type": "code",
   "execution_count": 38,
   "id": "72c1957e-c4f9-46c6-8d46-eb760be5dea2",
   "metadata": {},
   "outputs": [
    {
     "data": {
      "text/plain": [
       "(200, 14)"
      ]
     },
     "execution_count": 38,
     "metadata": {},
     "output_type": "execute_result"
    }
   ],
   "source": [
    "books_df.shape"
   ]
  },
  {
   "cell_type": "markdown",
   "id": "64637ed9-847d-469b-80b7-dcb6fca10883",
   "metadata": {},
   "source": [
    "지금 만든 프로그램을 정기적으로 실행하면 보고 자료 API를 호출할 수 있습니다."
   ]
  },
  {
   "cell_type": "code",
   "execution_count": 39,
   "id": "323621dc-d17a-4e4d-ae7f-d422c27b2437",
   "metadata": {},
   "outputs": [],
   "source": [
    "# JSON파일로 변환하여 저장 \n",
    "books_df.to_json('20s_best_book.json')"
   ]
  },
  {
   "cell_type": "markdown",
   "id": "e7f7ac3e-b1c3-4229-8e67-d4e5f1c8213e",
   "metadata": {},
   "source": [
    "# 2. 웹 크롤링\n",
    "\n",
    "목표 : "
   ]
  },
  {
   "cell_type": "code",
   "execution_count": null,
   "id": "c659b9f5-30d8-4353-beef-6911c88c2846",
   "metadata": {},
   "outputs": [],
   "source": []
  }
 ],
 "metadata": {
  "kernelspec": {
   "display_name": "Python 3 (ipykernel)",
   "language": "python",
   "name": "python3"
  },
  "language_info": {
   "codemirror_mode": {
    "name": "ipython",
    "version": 3
   },
   "file_extension": ".py",
   "mimetype": "text/x-python",
   "name": "python",
   "nbconvert_exporter": "python",
   "pygments_lexer": "ipython3",
   "version": "3.10.11"
  }
 },
 "nbformat": 4,
 "nbformat_minor": 5
}
